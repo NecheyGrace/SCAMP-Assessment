{
 "cells": [
  {
   "cell_type": "code",
   "execution_count": 20,
   "metadata": {},
   "outputs": [
    {
     "data": {
      "text/plain": [
       "34"
      ]
     },
     "execution_count": 20,
     "metadata": {},
     "output_type": "execute_result"
    }
   ],
   "source": [
    "def recursion_fibonacci(n):\n",
    "    if n <= 1:\n",
    "        \n",
    "        return n\n",
    "    \n",
    "    elif n==2:\n",
    "        \n",
    "        return 1\n",
    "    else:\n",
    "        return(recursion_fibonacci(n-1) + recursion_fibonacci(n-2))\n",
    "    \n",
    "recursion_fibonacci(9)\n",
    "   \n",
    "\n",
    "        \n",
    "    \n",
    "    \n",
    "  \n",
    "        \n",
    "       \n",
    "                \n",
    "                \n",
    "        \n",
    "    \n",
    "    \n",
    "\n",
    "\n"
   ]
  },
  {
   "cell_type": "code",
   "execution_count": null,
   "metadata": {},
   "outputs": [],
   "source": []
  }
 ],
 "metadata": {
  "kernelspec": {
   "display_name": "Python 3",
   "language": "python",
   "name": "python3"
  },
  "language_info": {
   "codemirror_mode": {
    "name": "ipython",
    "version": 3
   },
   "file_extension": ".py",
   "mimetype": "text/x-python",
   "name": "python",
   "nbconvert_exporter": "python",
   "pygments_lexer": "ipython3",
   "version": "3.7.6"
  }
 },
 "nbformat": 4,
 "nbformat_minor": 4
}
